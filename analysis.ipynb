{
 "cells": [
  {
   "cell_type": "markdown",
   "metadata": {},
   "source": [
    "### Worked with Sabrina Carlos"
   ]
  },
  {
   "cell_type": "markdown",
   "metadata": {},
   "source": [
    "## Q1: What information do you have?\n",
    "The direct headers:\n",
    "1. What are your reasons for taking course?\n",
    "2. Are you a transfer student?\n",
    "3. What year of study are you in?\n",
    "4. Are you familiar with Python?\n",
    "5. Are you familiar with Github?\n",
    "6. Are you familiar with SQL?\n",
    "7. Are you familiar with JupyterLab?\n",
    "8. Are you familiar with Anaconda?\n",
    "9. Which of the following courses have you taken?\n",
    "10. Other DS related courses you've taken\n",
    "11. How familiar are you with different stastical tests\n",
    "12. How many classes are you taking this quarter?\n",
    "13. How many of your classes this quarter have a lab (including CS 105)\n",
    "14. How old are you?\n",
    "15. How many tech electives have you taken at UCR?\n",
    "16. What is your first programming language?\n",
    "17. What is your preferred go to programming language?\n",
    "18. When did you begin learning how to program?\n",
    "19. How did you begin programming\n",
    "20. Do you like playing sports / working out?\n",
    "21. How many days a week do you work out?\n",
    "22. What is your gender?\n",
    "23. Do you like listening to music?\n",
    "24. What type of music do you prefer listening to?\n",
    "25. Do you like reading\n",
    "26. What genre of books do you like to read (if you had to)\n",
    "\n",
    "Descriptive:\n",
    "- student information: year of study, courses taken, demographic, etc\n",
    "- skills: familiarity with certain programming languages, first programming language, most comfortable programming language, software familiarity, etc\n",
    "- pasttimes: music, exercise, books"
   ]
  },
  {
   "cell_type": "markdown",
   "metadata": {},
   "source": [
    "## Q2: What would you like to know about the class?\n",
    "\n",
    "Questions:\n",
    "1. correlation between first programming language and how they started\n",
    "2. correlation between liking working out and the amount of times a week someone works out\n",
    "3. correlation between familiarity with python and anaconda\n",
    "4. average familiarity with statistical tests\n",
    "5. most common preferred music type\n",
    "6. what are the mean, median and mode on how many technical electives are taken"
   ]
  },
  {
   "cell_type": "markdown",
   "metadata": {},
   "source": [
    "## Q3: Explore the data."
   ]
  },
  {
   "cell_type": "code",
   "execution_count": 1,
   "metadata": {},
   "outputs": [
    {
     "data": {
      "text/plain": [
       "2. Are you a \\ntransfer student?                                              int64\n",
       "3. What year of study \\nare you in?                                           int64\n",
       "4. Are you familiar \\nwith Python?                                            int64\n",
       "5. Are you familiar\\nwith Github?                                             int64\n",
       "6. Are you familiar\\nwith SQL?                                                int64\n",
       "7. Are you familiar \\nwith JupyterLab?                                        int64\n",
       "8. Are you familiar\\nwith Anaconda?                                           int64\n",
       "11. How familiar are you\\n with different stastical tests                     int64\n",
       "12. How many classes are\\n you taking this quarter?                           int64\n",
       "13. How many of your classes this \\nquarter have a lab (including CS 105)     int64\n",
       "14. How old are you?                                                          int64\n",
       "15. How many tech electives\\nhave you taken at UCR?                           int64\n",
       "16. What is your first \\nprogramming language?                               object\n",
       "17. What is your preferred \\n\"go to\" programming language?                   object\n",
       "18.When did you begin \\nlearning how to program?                             object\n",
       "19. How did you begin \\nprogramming                                          object\n",
       "20. Do you like playing \\nsports / working out?                              object\n",
       "21. How many days a \\nweek do you work out?                                   int64\n",
       "22. What is your gender?                                                     object\n",
       "23. Do you like \\nlistening to music?                                        object\n",
       "24. What type of music do \\nyou prefer listening to?                         object\n",
       "25. Do you like reading                                                      object\n",
       "26. What genre of books \\ndo you like to read (if you had to)                object\n",
       "dtype: object"
      ]
     },
     "execution_count": 1,
     "metadata": {},
     "output_type": "execute_result"
    }
   ],
   "source": [
    "import pandas as pd\n",
    "import numpy as np\n",
    "import matplotlib.pyplot as plt\n",
    "import math\n",
    "import seaborn as sns\n",
    "import scipy.stats as stats\n",
    "from scipy.stats import chi2\n",
    "\n",
    "# read fie as a dataframe\n",
    "df = pd.read_csv('CS105_SurveyUpdated - Sheet1.csv', sep=',', error_bad_lines=False)\n",
    "\n",
    "# make a copy to modify\n",
    "df2 = df.copy()\n",
    "\n",
    "# drop first two lines that wont be used at all\n",
    "df2 = df2.drop([0,1])\n",
    "df2 = df2.drop(columns=['Unnamed: 0', '1. What are your reasons\\nfor taking course?', '9. Which of the following courses have you taken?','Unnamed: 10', 'Unnamed: 11', 'Unnamed: 12', 'Unnamed: 13', \"10. Other DS related courses \\nyou've taken\"])\n",
    "\n",
    "# clean up data fills\n",
    "df2['16. What is your first \\nprogramming language?'] = df2['16. What is your first \\nprogramming language?'].replace(['C++ '],'C++')\n",
    "df2['16. What is your first \\nprogramming language?'] = df2['16. What is your first \\nprogramming language?'].replace(['Jav '],'Java')\n",
    "df2['16. What is your first \\nprogramming language?'] = df2['16. What is your first \\nprogramming language?'].replace(['Java '],'Java')\n",
    "df2['19. How did you begin \\nprogramming'] = df2['19. How did you begin \\nprogramming'].replace(['High School course'],'High school course')\n",
    "df2['19. How did you begin \\nprogramming'] = df2['19. How did you begin \\nprogramming'].replace(['Online Tutorial'],'Online Tutorials')\n",
    "df2['19. How did you begin \\nprogramming'] = df2['19. How did you begin \\nprogramming'].replace(['Inrtoductory course in college'],'Introductory course in college')\n",
    "df2['19. How did you begin \\nprogramming'] = df2['19. How did you begin \\nprogramming'].replace(['Intoductory course in college'],'Introductory course in college')\n",
    "df2['19. How did you begin \\nprogramming'] = df2['19. How did you begin \\nprogramming'].replace(['Intrductory course in college'],'Introductory course in college')\n",
    "df2['19. How did you begin \\nprogramming'] = df2['19. How did you begin \\nprogramming'].replace(['Introducory course in college'],'Introductory course in college')\n",
    "df2['20. Do you like playing \\nsports / working out?'] = df2['20. Do you like playing \\nsports / working out?'].replace(['Yes '],'Yes')\n",
    "df2['20. Do you like playing \\nsports / working out?'] = df2['20. Do you like playing \\nsports / working out?'].replace(['No '],'No')\n",
    "df2['23. Do you like \\nlistening to music?'] = df2['23. Do you like \\nlistening to music?'].replace(['Yes '],'Yes')\n",
    "df2['24. What type of music do \\nyou prefer listening to?'] = df2['24. What type of music do \\nyou prefer listening to?'].replace(['Edm '],'Edm')\n",
    "df2['24. What type of music do \\nyou prefer listening to?'] = df2['24. What type of music do \\nyou prefer listening to?'].replace(['Hiphop '],'Hiphop')\n",
    "df2['24. What type of music do \\nyou prefer listening to?'] = df2['24. What type of music do \\nyou prefer listening to?'].replace(['Rock '],'Rock')\n",
    "\n",
    "# assume that any student that did not answer is a traditional student\n",
    "df2[['2. Are you a \\ntransfer student?']] = df2[['2. Are you a \\ntransfer student?']].fillna(value=1)\n",
    "\n",
    "# fill with averages\n",
    "#for i in range(1, 5):\n",
    "df2.iloc[:, 1].fillna(value=df2.iloc[:, 1].mean(), inplace=True)\n",
    "    \n",
    "# fill with modes\n",
    "for i in range(2, 23):\n",
    "    df2.iloc[:, i].fillna(df2.iloc[:, i].mode()[0], inplace=True)\n",
    "    \n",
    "# convert to integer\n",
    "for i in range(0, 12):\n",
    "    df2.iloc[:, i] = df2.iloc[:, i].astype('int64')\n",
    "df2.iloc[:, 17] = df2.iloc[:, 17].astype('int64')\n",
    "\n",
    "df2.dtypes"
   ]
  },
  {
   "cell_type": "markdown",
   "metadata": {},
   "source": [
    "### 1. correlation between first programming language and how they started\n",
    "we are finding the raw data of how students began programming and their first programming language\n",
    "we will later determine if there is a correlation between the two"
   ]
  },
  {
   "cell_type": "code",
   "execution_count": 2,
   "metadata": {},
   "outputs": [
    {
     "data": {
      "text/plain": [
       "<matplotlib.axes._subplots.AxesSubplot at 0x248f37bcac0>"
      ]
     },
     "execution_count": 2,
     "metadata": {},
     "output_type": "execute_result"
    },
    {
     "data": {
      "image/png": "[encoded data removed]",
      "text/plain": [
       "<Figure size 1440x432 with 1 Axes>"
      ]
     },
     "metadata": {
      "needs_background": "light"
     },
     "output_type": "display_data"
    }
   ],
   "source": [
    "t1 = pd.crosstab(df2[\"19. How did you begin \\nprogramming\"], df2[\"16. What is your first \\nprogramming language?\"])\n",
    "t1.plot.bar(figsize = (20,6), fontsize = 15)"
   ]
  },
  {
   "cell_type": "markdown",
   "metadata": {},
   "source": [
    "### 2. correlation between liking working out and the amount of times a week someone works out\n",
    "we are finding the percentage of student that work out for x amount of days based on whether they said they enjoyed playing sports or working out"
   ]
  },
  {
   "cell_type": "code",
   "execution_count": 3,
   "metadata": {},
   "outputs": [
    {
     "data": {
      "text/plain": [
       "<matplotlib.axes._subplots.AxesSubplot at 0x248f3f545e0>"
      ]
     },
     "execution_count": 3,
     "metadata": {},
     "output_type": "execute_result"
    },
    {
     "data": {
      "image/png": "[encoded data removed]",
      "text/plain": [
       "<Figure size 1440x432 with 1 Axes>"
      ]
     },
     "metadata": {
      "needs_background": "light"
     },
     "output_type": "display_data"
    }
   ],
   "source": [
    "t2 = pd.crosstab(df2[\"20. Do you like playing \\nsports / working out?\"], df2[\"21. How many days a \\nweek do you work out?\"], normalize='index')\n",
    "t2.plot.bar(stacked = True, figsize = (20,6), fontsize = 15)"
   ]
  },
  {
   "cell_type": "markdown",
   "metadata": {},
   "source": [
    "### 3. correlation between familiarity with python and anaconda\n",
    "we are using a heat map to determine the correlations between python familiarity and anaconda familiarity"
   ]
  },
  {
   "cell_type": "code",
   "execution_count": 4,
   "metadata": {},
   "outputs": [
    {
     "data": {
      "text/plain": [
       "<matplotlib.axes._subplots.AxesSubplot at 0x248f402c3d0>"
      ]
     },
     "execution_count": 4,
     "metadata": {},
     "output_type": "execute_result"
    },
    {
     "data": {
      "image/png": "[encoded data removed]",
      "text/plain": [
       "<Figure size 432x288 with 2 Axes>"
      ]
     },
     "metadata": {
      "needs_background": "light"
     },
     "output_type": "display_data"
    }
   ],
   "source": [
    "t3 = pd.crosstab(df2[\"4. Are you familiar \\nwith Python?\"], df2[\"8. Are you familiar\\nwith Anaconda?\"])\n",
    "sns.heatmap(t3)"
   ]
  },
  {
   "cell_type": "markdown",
   "metadata": {},
   "source": [
    "### 4. average familiarity with statistical tests\n",
    "we are looking at the raw data of familiarity with statistical tests and then finding the mean"
   ]
  },
  {
   "cell_type": "code",
   "execution_count": 5,
   "metadata": {},
   "outputs": [
    {
     "data": {
      "text/plain": [
       "array([[<matplotlib.axes._subplots.AxesSubplot object at 0x00000248F40E99D0>]],\n",
       "      dtype=object)"
      ]
     },
     "execution_count": 5,
     "metadata": {},
     "output_type": "execute_result"
    },
    {
     "data": {
      "image/png": "[encoded data removed]",
      "text/plain": [
       "<Figure size 432x288 with 1 Axes>"
      ]
     },
     "metadata": {
      "needs_background": "light"
     },
     "output_type": "display_data"
    }
   ],
   "source": [
    "df2.hist(column=\"11. How familiar are you\\n with different stastical tests \", bins=9, rwidth = 0.9)"
   ]
  },
  {
   "cell_type": "code",
   "execution_count": 6,
   "metadata": {},
   "outputs": [
    {
     "data": {
      "text/plain": [
       "4.969230769230769"
      ]
     },
     "execution_count": 6,
     "metadata": {},
     "output_type": "execute_result"
    }
   ],
   "source": [
    "df2[\"11. How familiar are you\\n with different stastical tests \"].mean()"
   ]
  },
  {
   "cell_type": "markdown",
   "metadata": {},
   "source": [
    "### 5. most common preferred music type\n",
    "we are looking at the raw data of preferred music type tests and then finding the mean"
   ]
  },
  {
   "cell_type": "code",
   "execution_count": 7,
   "metadata": {},
   "outputs": [
    {
     "data": {
      "text/plain": [
       "<matplotlib.axes._subplots.AxesSubplot at 0x248f413ca30>"
      ]
     },
     "execution_count": 7,
     "metadata": {},
     "output_type": "execute_result"
    },
    {
     "data": {
      "image/png": "[encoded data removed]",
      "text/plain": [
       "<Figure size 720x432 with 1 Axes>"
      ]
     },
     "metadata": {
      "needs_background": "light"
     },
     "output_type": "display_data"
    }
   ],
   "source": [
    "t4 = pd.crosstab(df2[\"23. Do you like \\nlistening to music?\"], df2[\"24. What type of music do \\nyou prefer listening to?\"])\n",
    "t4.plot.bar(figsize = (10,6), width = 10, fontsize = 15)"
   ]
  },
  {
   "cell_type": "markdown",
   "metadata": {},
   "source": [
    "### 6. what are the mean, median and mode on how many technical electives are taken\n",
    "we are looking at the raw data of preferred music type tests and then finding the mean, median, and mode"
   ]
  },
  {
   "cell_type": "code",
   "execution_count": 8,
   "metadata": {},
   "outputs": [
    {
     "data": {
      "text/plain": [
       "array([[<matplotlib.axes._subplots.AxesSubplot object at 0x00000248F452F4C0>]],\n",
       "      dtype=object)"
      ]
     },
     "execution_count": 8,
     "metadata": {},
     "output_type": "execute_result"
    },
    {
     "data": {
      "image/png": "[encoded data removed]",
      "text/plain": [
       "<Figure size 432x288 with 1 Axes>"
      ]
     },
     "metadata": {
      "needs_background": "light"
     },
     "output_type": "display_data"
    }
   ],
   "source": [
    "df2.hist(column = \"15. How many tech electives\\nhave you taken at UCR? \", bins=9, rwidth = 0.9)"
   ]
  },
  {
   "cell_type": "code",
   "execution_count": 9,
   "metadata": {},
   "outputs": [
    {
     "name": "stdout",
     "output_type": "stream",
     "text": [
      "mean: 2.646153846153846\n",
      "median: 1.0\n",
      "mode: 1\n"
     ]
    }
   ],
   "source": [
    "print(\"mean:\", df2[\"15. How many tech electives\\nhave you taken at UCR? \"].mean())\n",
    "print(\"median:\", df2[\"15. How many tech electives\\nhave you taken at UCR? \"].median())\n",
    "print(\"mode:\", df2[\"15. How many tech electives\\nhave you taken at UCR? \"].mode()[0])"
   ]
  },
  {
   "cell_type": "markdown",
   "metadata": {},
   "source": [
    "## Q4: Can you state any hypotheses or make some predictions? Which tests can you apply to verify your hypothesis?\n",
    "### 1. correlation between first programming language and how they started\n",
    "**hypothesis:** students who started learning programming at college are likely to have c++ as their first programming language compared to other students\n",
    "\n",
    "**tests:** condition probability -- P( C++ | college )\n",
    "\n",
    "### 2. correlation between liking working out and the amount of times a week someone works out\n",
    "**hypothesis:**\n",
    "- null hypothesis: people's affinity to sports and working out does not affect the frequency they work out\n",
    "- alternatice hypothesis: people's affinity to sports and working out does affect the frequency they work out\n",
    "\n",
    "**tests:** x2 test\n",
    "\n",
    "### 6. what are the mean, median and mode on how many technical electives are taken\n",
    "**hypothesis:**\n",
    "- the mean will be around 3.5, assuming we round the average\n",
    "- the median will be 3\n",
    "- the mode will be 2\n",
    "\n",
    "**tests:** mean, median, mode"
   ]
  },
  {
   "cell_type": "markdown",
   "metadata": {},
   "source": [
    "## Q5: Test your hypotheses"
   ]
  },
  {
   "cell_type": "code",
   "execution_count": 10,
   "metadata": {},
   "outputs": [],
   "source": [
    "# functions\n",
    "\n",
    "# based on https://github.com/kuldeepnpatel/Chi-Square-Test-of-Independence/blob/master/Chi-Square%20Test%20of%20Independence.ipynb\n",
    "def chi_squared_test(df_1, alpha):\n",
    "    # observed\n",
    "    observed = df_1.values\n",
    "\n",
    "    # expected\n",
    "    b = stats.chi2_contingency(observed)\n",
    "    expected = b[3]\n",
    "    expected_rounded = np.round(expected, 2)\n",
    "\n",
    "    # degrees of freedom, deg_free\n",
    "    deg_free = b[2]\n",
    "\n",
    "    # significance level, passed in function call\n",
    "\n",
    "    #chi-square statistic - x2_stat\n",
    "    x2 = sum( ((o-e)**2./e for o,e in zip(observed, expected)) )\n",
    "    x2_stat = np.sum(x2)\n",
    "\n",
    "    # critical value\n",
    "    critical_value = chi2.ppf(1-alpha, deg_free)\n",
    "    critical_value = np.round(critical_value, 2)\n",
    "\n",
    "    # p value\n",
    "    p_value = 1 - chi2.cdf(x2_stat, deg_free)\n",
    "\n",
    "    # summary\n",
    "    return alpha, deg_free, x2_stat, critical_value, p_value"
   ]
  },
  {
   "cell_type": "markdown",
   "metadata": {},
   "source": [
    "### 1. correlation between first programming language and how they started\n",
    "we are using conditional probability to test our hypothesis\n",
    "\n",
    "testing by hand\n",
    "![](q1.jpg)\n",
    "\n",
    "based on the performance of the test below, we can conclude that our hypothesis is true since the percentage of students who started learning programming at college that have their first programming language to be c++ is larger than 90% and any other percentage of students who started learning programming at college and their first programming language that is not c++ will be less than"
   ]
  },
  {
   "cell_type": "code",
   "execution_count": 11,
   "metadata": {},
   "outputs": [
    {
     "name": "stdout",
     "output_type": "stream",
     "text": [
      "toyset_q1 test\n",
      "--------------\n",
      "P( C++ | college ): True\n"
     ]
    }
   ],
   "source": [
    "# verify test\n",
    "toyset_q1 = df2[[\"19. How did you begin \\nprogramming\", \"16. What is your first \\nprogramming language?\"]]\n",
    "toyset_q1 = toyset_q1[0:3]\n",
    "t5 = pd.crosstab(toyset_q1[\"19. How did you begin \\nprogramming\"], toyset_q1[\"16. What is your first \\nprogramming language?\"])\n",
    "t5 = t5.T\n",
    "\n",
    "print(\"toyset_q1 test\")\n",
    "print(\"--------------\")\n",
    "print(\"P( C++ | college ):\", t5.loc[\"C++\", \"Introductory course in college\"] / t5[\"Introductory course in college\"].sum() == 0.5)"
   ]
  },
  {
   "cell_type": "code",
   "execution_count": 12,
   "metadata": {},
   "outputs": [
    {
     "name": "stdout",
     "output_type": "stream",
     "text": [
      "P( C++ | college ): 0.85\n"
     ]
    }
   ],
   "source": [
    "# perform test\n",
    "t1 = t1.T\n",
    "print(\"P( C++ | college ):\", t1.loc[\"C++\", \"Introductory course in college\"] / t1[\"Introductory course in college\"].sum())"
   ]
  },
  {
   "cell_type": "markdown",
   "metadata": {},
   "source": [
    "### 2. correlation between liking working out and the amount of times a week someone works out\n",
    "we are using chi squared test to test our hypothesis with an alpha (significance level) of 0.05\n",
    "\n",
    "testing by hand\n",
    "![](q2.jpg)\n",
    "\n",
    "based on the results below, we can accept the null hypothesis. this means that there is no significant relationship between liking working out and the amount of times in a week that a person works out. this means that a student in the class may or may not work out (at various frequencies) regardless of their enjoyment of sports or working out."
   ]
  },
  {
   "cell_type": "code",
   "execution_count": 13,
   "metadata": {},
   "outputs": [
    {
     "name": "stdout",
     "output_type": "stream",
     "text": [
      "toyset_q2 test\n",
      "--------------\n",
      "significance level:\t True\n",
      "degrees of freedom:\t True\n",
      "chi-square statistic:\t True\n",
      "critical_value:\t\t True\n",
      "accept null hypothesis, there is no relationship between 2 categorical variables\n"
     ]
    }
   ],
   "source": [
    "# verify test\n",
    "toyset_q2 = df2[[\"20. Do you like playing \\nsports / working out?\", \"21. How many days a \\nweek do you work out?\"]]\n",
    "toyset_q2 = toyset_q2[0:3]\n",
    "t6 = pd.crosstab(toyset_q2[\"20. Do you like playing \\nsports / working out?\"], toyset_q2[\"21. How many days a \\nweek do you work out?\"])\n",
    "\n",
    "print(\"toyset_q2 test\")\n",
    "print(\"--------------\")\n",
    "alpha, deg_free, x2_stat, critical_value, p_value = chi_squared_test(t6, 0.05)\n",
    "\n",
    "print('significance level:\\t', alpha == 0.05)\n",
    "print('degrees of freedom:\\t', deg_free == 1)\n",
    "print('chi-square statistic:\\t', x2_stat == 0.75)\n",
    "print('critical_value:\\t\\t', critical_value == 3.84)\n",
    "\n",
    "if x2_stat >= critical_value:\n",
    "    print(\"reject null hypothesis, there is a relationship between 2 categorical variables\")\n",
    "else:\n",
    "    print(\"accept null hypothesis, there is no relationship between 2 categorical variables\")"
   ]
  },
  {
   "cell_type": "code",
   "execution_count": 14,
   "metadata": {},
   "outputs": [
    {
     "name": "stdout",
     "output_type": "stream",
     "text": [
      "significance level:\t 0.05\n",
      "degrees of freedom:\t 7\n",
      "chi-square statistic:\t 7.319139194139194\n",
      "critical_value:\t\t 14.07\n",
      "accept null hypothesis, there is no relationship between 2 categorical variables\n"
     ]
    }
   ],
   "source": [
    "# perform test\n",
    "t2 = pd.crosstab(df2[\"20. Do you like playing \\nsports / working out?\"], df2[\"21. How many days a \\nweek do you work out?\"])\n",
    "alpha, deg_free, x2_stat, critical_value, p_value = chi_squared_test(t2, 0.05)\n",
    "\n",
    "print('significance level:\\t', alpha)\n",
    "print('degrees of freedom:\\t', deg_free)\n",
    "print('chi-square statistic:\\t', x2_stat)\n",
    "print('critical_value:\\t\\t', critical_value)\n",
    "\n",
    "if x2_stat >= critical_value:\n",
    "    print(\"reject null hypothesis, there is a relationship between 2 categorical variables\")\n",
    "else:\n",
    "    print(\"accept null hypothesis, there is no relationship between 2 categorical variables\")"
   ]
  },
  {
   "cell_type": "markdown",
   "metadata": {},
   "source": [
    "### 6. what are the mean, median and mode on how many technical electives are taken\n",
    "we are using the mean, median and mode to test our hypothesis\n",
    "\n",
    "testing by hand\n",
    "![](q6.jpg)\n",
    "\n",
    "based on the results below, all of our predictions were incorrect. most students have taken 1 elective class at ucr. however, the mean in close to 2.5 (rounded). this indicated that while the majority of students have taken only 1 elective class, there are enough students that have taken more than 3 classes to have a significant sway on the results"
   ]
  },
  {
   "cell_type": "code",
   "execution_count": 15,
   "metadata": {},
   "outputs": [
    {
     "name": "stdout",
     "output_type": "stream",
     "text": [
      "toyset_q6 test\n",
      "--------------\n",
      "mean:\t True\n",
      "median:\t True\n",
      "mode:\t True\n"
     ]
    }
   ],
   "source": [
    "# verify test\n",
    "toyset_q6 = df2[\"15. How many tech electives\\nhave you taken at UCR? \"]\n",
    "toyset_q6 = toyset_q6[1:4]\n",
    "\n",
    "print(\"toyset_q6 test\")\n",
    "print(\"--------------\")\n",
    "print(\"mean:\\t\", toyset_q6.mean() == (5/3))\n",
    "print(\"median:\\t\", toyset_q6.median() == 1)\n",
    "print(\"mode:\\t\", toyset_q6.mode()[0] == 1)"
   ]
  },
  {
   "cell_type": "code",
   "execution_count": 16,
   "metadata": {},
   "outputs": [
    {
     "name": "stdout",
     "output_type": "stream",
     "text": [
      "mean:\t 2.646153846153846\n",
      "median:\t 1.0\n",
      "mode:\t 1\n"
     ]
    }
   ],
   "source": [
    "# perform test\n",
    "print(\"mean:\\t\", df2[\"15. How many tech electives\\nhave you taken at UCR? \"].mean())\n",
    "print(\"median:\\t\", df2[\"15. How many tech electives\\nhave you taken at UCR? \"].median())\n",
    "print(\"mode:\\t\", df2[\"15. How many tech electives\\nhave you taken at UCR? \"].mode()[0])"
   ]
  }
 ],
 "metadata": {
  "kernelspec": {
   "display_name": "Python 3",
   "language": "python",
   "name": "python3"
  },
  "language_info": {
   "codemirror_mode": {
    "name": "ipython",
    "version": 3
   },
   "file_extension": ".py",
   "mimetype": "text/x-python",
   "name": "python",
   "nbconvert_exporter": "python",
   "pygments_lexer": "ipython3",
   "version": "3.8.3"
  }
 },
 "nbformat": 4,
 "nbformat_minor": 4
}
